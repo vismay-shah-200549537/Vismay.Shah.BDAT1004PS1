{
  "nbformat": 4,
  "nbformat_minor": 0,
  "metadata": {
    "colab": {
      "provenance": []
    },
    "kernelspec": {
      "name": "python3",
      "display_name": "Python 3"
    },
    "language_info": {
      "name": "python"
    }
  },
  "cells": [
    {
      "cell_type": "markdown",
      "source": [
        "**QUESTION 6** :  You can turn a word into pig-Latin using the following two rules(simplified):\n",
        "• If the word starts with a consonant, move that letter to the end and append \n",
        "'ay'. For example, 'happy' becomes 'appyhay' and 'pencil' becomes 'encilpay'.\n",
        "• If the word starts with a vowel, simply append 'way' to the end of the word. \n",
        "For example, 'enter' becomes 'enterway' and 'other' becomes 'otherway' . For \n",
        "our purposes, there are 5 vowels: a, e, i, o, u (so we count y as a consonant).\n",
        "Write a function pig() that takes a word (i.e., a string) as input and returns its pig\u0002Latin form. Your function should still work if the input word contains upper case \n",
        "characters. Your output should always be lower case however."
      ],
      "metadata": {
        "id": "fqDbWFyt1yGR"
      }
    },
    {
      "cell_type": "code",
      "execution_count": null,
      "metadata": {
        "colab": {
          "base_uri": "https://localhost:8080/"
        },
        "id": "4n1jalbOxGrJ",
        "outputId": "55075ee0-98c6-4431-e731-df58f211a18f"
      },
      "outputs": [
        {
          "output_type": "stream",
          "name": "stdout",
          "text": [
            "enter: happy\n",
            "appyhay\n"
          ]
        }
      ],
      "source": [
        "word = str()\n",
        "def pig(word):\n",
        "    word = input(\"enter: \")\n",
        "    vowels = ['a', 'e', 'i', 'o', 'u']\n",
        "    word = word.lower()  # Convert word to lowercase\n",
        "    if word[0] in vowels:\n",
        "        return word + 'way'\n",
        "    else:\n",
        "        return word[1:] + word[0] + 'ay'\n",
        "\n",
        "print(pig(word))"
      ]
    },
    {
      "cell_type": "markdown",
      "source": [
        "**QUESTION 8** : Write a function curconv() that takes as input:\n",
        "1. a currency represented using a string (e.g., 'JPY' for the Japanese Yen or \n",
        "'EUR' for the Euro)\n",
        "2. an amount\n",
        "and then converts and returns the amount in US dollars."
      ],
      "metadata": {
        "id": "UO_jAzH01xEY"
      }
    },
    {
      "cell_type": "code",
      "source": [
        "\n",
        "def curconv(currency, amount):\n",
        "    # Dictionary of currency conversion rates\n",
        "    conversion_rates = {\n",
        "        'JPY': 0.01241401,\n",
        "        'INR': 0.0177643,\t\n",
        "        'CHF': 1.0237414,\t\n",
        "        'CNY': 0.1550176,\t\n",
        "        'DKK': 0.1651442,\t \n",
        "        'EUR': 1.2296544,\t\n",
        "        'GBP':1.5550989,\t\n",
        "        'HKD':0.1270207,\t\n",
        "        'MXN':0.0751848,\t\n",
        "        'MYR':0.3145411,\t\n",
        "        'NOK':0.1677063,\t\n",
        "        'NZD':0.8003591,\t\n",
        "        'PHP':0.0233234,\t\n",
        "        'SEK':0.148269,\t\n",
        "        'SGD':0.788871,\t\n",
        "        'THB':0.0313789 }\n",
        "        \n",
        "    if currency in conversion_rates:\n",
        "        usd_amount = amount * conversion_rates[currency]\n",
        "        return usd_amount\n",
        "    else:\n",
        "        print(\"Conversion rate for\", currency, \"is not available.\")\n",
        "        return None \n",
        "\n",
        "        \n",
        "#print(curconv('JPY',100))\n",
        "#print(curconv('EUR',100))           "
      ],
      "metadata": {
        "colab": {
          "base_uri": "https://localhost:8080/"
        },
        "id": "JiusR1A2kYJJ",
        "outputId": "4ab64992-5491-406b-f4f6-5b93052d3f82"
      },
      "execution_count": null,
      "outputs": [
        {
          "output_type": "stream",
          "name": "stdout",
          "text": [
            "1.241401\n",
            "122.96544\n"
          ]
        }
      ]
    },
    {
      "cell_type": "markdown",
      "source": [
        "**Question 10**:\n",
        "Encryption is the process of hiding the meaning of a text by substituting letters in the \n",
        "message with other letters, according to some system. If the process is successful, no \n",
        "one but the intended recipient can understand the encrypted message. Cryptanalysis \n",
        "refers to attempts to undo the encryption, even if some details of the encryption are \n",
        "unknown (for example, if an encrypted message has been intercepted). The first step \n",
        "of cryptanalysis is often to build up a table of letter frequencies in the encrypted text. \n",
        "Assume that the string letters is already defined as \n",
        "'abcdefghijklmnopqrstuvwxyz'. Write a function called frequencies() \n",
        "that takes a string as its only parameter, and returns a list of integers, showing the \n",
        "number of times each character appears in the text. Your function may ignore any \n",
        "characters that are not in letters"
      ],
      "metadata": {
        "id": "d0c-tE3AGtgr"
      }
    },
    {
      "cell_type": "code",
      "source": [
        "def frequencies(text):\n",
        "    letters = 'abcdefghijklmnopqrstuvwxyz'\n",
        "    frequencies = [0] * 26  # Initialize a list of 26 zeros\n",
        "\n",
        "    for char in text.lower():\n",
        "        if char in letters:\n",
        "            index = letters.index(char)\n",
        "            frequencies[index] += 1\n",
        "\n",
        "    return frequencies\n",
        "\n",
        "text = str(input(\"Enter input: \"))\n",
        "result = frequencies(text)\n",
        "print(result) \n"
      ],
      "metadata": {
        "colab": {
          "base_uri": "https://localhost:8080/"
        },
        "id": "Uf-BYToY6nKQ",
        "outputId": "52cd4a3e-afc9-499a-afa3-b2db345883f1"
      },
      "execution_count": null,
      "outputs": [
        {
          "output_type": "stream",
          "name": "stdout",
          "text": [
            "Enter input: 'The quick red fox got bored and went home.\n",
            "[1, 1, 1, 3, 5, 1, 1, 2, 1, 0, 1, 0, 1, 2, 4, 0, 1, 2, 0, 3, 1, 0, 1, 1, 0, 0]\n"
          ]
        }
      ]
    }
  ]
}