{
 "cells": [
  {
   "cell_type": "code",
   "execution_count": 6,
   "id": "295167e7",
   "metadata": {},
   "outputs": [],
   "source": [
    "def curconv(currency, amount):\n",
    "    conversion_rates = {}\n",
    "        with open('currencies.txt', 'r') as file:\n",
    "            for line in file:\n",
    "                values = line.split()\n",
    "                currency_code = values[0]\n",
    "                conversion_rate = float(values[1])\n",
    "                conversion_rates[currency_code] = conversion_rate\n",
    "        FileNotFoundError:\n",
    "        print(\"Currency conversion file not found.\")\n",
    "        return None\n",
    "\n",
    "    if currency in conversion_rates:\n",
    "        usd_amount = amount * conversion_rates[currency]\n",
    "        return usd_amount\n",
    "    else:\n",
    "        print(\"Conversion rate for\", currency, \"is not available.\")\n",
    "        return None"
   ]
  },
  {
   "cell_type": "code",
   "execution_count": null,
   "id": "161e9281",
   "metadata": {},
   "outputs": [],
   "source": []
  },
  {
   "cell_type": "code",
   "execution_count": null,
   "id": "3a4f4cc1",
   "metadata": {},
   "outputs": [],
   "source": []
  }
 ],
 "metadata": {
  "kernelspec": {
   "display_name": "Python 3 (ipykernel)",
   "language": "python",
   "name": "python3"
  },
  "language_info": {
   "codemirror_mode": {
    "name": "ipython",
    "version": 3
   },
   "file_extension": ".py",
   "mimetype": "text/x-python",
   "name": "python",
   "nbconvert_exporter": "python",
   "pygments_lexer": "ipython3",
   "version": "3.10.9"
  }
 },
 "nbformat": 4,
 "nbformat_minor": 5
}
